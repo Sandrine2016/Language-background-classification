{
 "cells": [
  {
   "cell_type": "markdown",
   "metadata": {},
   "source": [
    "# Language Background Classification"
   ]
  },
  {
   "cell_type": "markdown",
   "metadata": {},
   "source": [
    "## Objectives"
   ]
  },
  {
   "cell_type": "markdown",
   "metadata": {},
   "source": [
    "- preprocess text derived from HTML documents\n",
    "- extract corpus linguistic features\n",
    "- Built a supervised classification system to identify language background of English language learners"
   ]
  },
  {
   "cell_type": "markdown",
   "metadata": {},
   "source": [
    "## Introduction"
   ]
  },
  {
   "cell_type": "markdown",
   "metadata": {},
   "source": [
    "This is an end-to-end classification system using a corpus of HTML documents scraped from the [Lang-8 language learning website](https://lang-8.com/). In particular, it is a classifier to distinguish English text written by Lang-8 users whose native language (L1) is another European language (French and Spanish) from those written by L1 speakers of East Asian languages (Japanese, Korean, and Mandarin Chinese). "
   ]
  },
  {
   "cell_type": "markdown",
   "metadata": {},
   "source": [
    "## Part 1: Text extraction from HTML"
   ]
  },
  {
   "cell_type": "markdown",
   "metadata": {},
   "source": [
    "Three things to be extracted from the HTML files inside the ZIP file:\n",
    "- the native language of the writer\n",
    "- the raw text (string) of the entry, with HTML removed\n",
    "- the original filename (so that you can use our provided train/dev/test split) "
   ]
  },
  {
   "cell_type": "code",
   "execution_count": 1,
   "metadata": {},
   "outputs": [],
   "source": [
    "import os\n",
    "from bs4 import BeautifulSoup\n",
    "import pandas as pd\n",
    "from zipfile import ZipFile"
   ]
  },
  {
   "cell_type": "code",
   "execution_count": 2,
   "metadata": {},
   "outputs": [],
   "source": [
    "my_zip = ZipFile(\"data/raw/lang-8.zip\")\n",
    "file_names = my_zip.namelist()[1:]"
   ]
  },
  {
   "cell_type": "code",
   "execution_count": 3,
   "metadata": {},
   "outputs": [],
   "source": [
    "def get_L1(html):\n",
    "    '''Extract the native language from the html string'''\n",
    "    for language in html.find_all(title='Native language'):\n",
    "        native_language = language.text\n",
    "        return native_language\n",
    "    \n",
    "def get_text(html):\n",
    "    '''Extract the entry text from the html string'''\n",
    "    # \"div\" shoud have \"id\" with \"body_show_ori\"\n",
    "    sent = []\n",
    "    for text in html.find_all(id='body_show_ori'):\n",
    "        for node in text:\n",
    "            if node in text.find_all('br'):\n",
    "                sent.append('\\n')\n",
    "            else:\n",
    "                sent.append(node.text)\n",
    "\n",
    "    text_message = ''.join(sent)\n",
    "    return text_message\n",
    "\n",
    "def get_filename_in_txt(html):\n",
    "    '''Extract the filename from the html string'''\n",
    "    for title in html.find_all(\"title\"):\n",
    "        file_name = title.text.split('|')[0].strip()\n",
    "        return file_name\n",
    "        \n",
    "def get_author_name(html):\n",
    "    '''Return a string as the author of the text'''\n",
    "    for box in html.find_all(id = \"author_box\"):\n",
    "        for names in box.find_all('a', {\"class\": \"user_name\"}):\n",
    "            user_name = names.text\n",
    "            return user_name\n",
    "\n",
    "def get_generator(file_list):\n",
    "    '''Return a dataframe of all extracted information'''\n",
    "    for i in file_list:\n",
    "        file_title = i.split('/')[1]\n",
    "        f = my_zip.open(i)\n",
    "        text_file = f.read()\n",
    "        soup = BeautifulSoup(text_file)\n",
    "        file_name = get_filename_in_txt(soup)\n",
    "        native_lang = get_L1(soup)\n",
    "        author_name = get_author_name(soup)\n",
    "        text_mess = get_text(soup)\n",
    "        f.close()\n",
    "        final_output = {'filetitle': file_title,\n",
    "         'filename': file_name,\n",
    "         'text': text_mess,\n",
    "         'language': native_lang,\n",
    "         'author': author_name\n",
    "        }\n",
    "        yield final_output"
   ]
  },
  {
   "cell_type": "code",
   "execution_count": 4,
   "metadata": {},
   "outputs": [],
   "source": [
    "results = get_generator(file_names)"
   ]
  },
  {
   "cell_type": "code",
   "execution_count": 5,
   "metadata": {},
   "outputs": [
    {
     "data": {
      "text/plain": [
       "{'filetitle': '100060.html',\n",
       " 'filename': 'In it days of pascuas, we are celebrated',\n",
       " 'text': '\\nIn it days of pascuas, we are celebrated :\\n \\nThe December 21 that is the day of the Spirit of the Christmas, where the angel Gabriel celebrates the arrival to Maria. We celebrate it with it has dinner from friends and family, in this 21 desires are asked for the prime year and one writes a leaf bad what of the year that then burns to eliminate it of our lives.\\n\\nDecember 24 is the day that god celebrates the Christmas or the birth in of the child; in the mangers the figure of the child is placed after 12 of the night as sign of birth. \\n\\nDecember 28 is the Day of the Santos Inocentes, where jokes all are played, this date according to the Catholic Church is one pagan - religious celebrates since masses and festivals realize in commemoration of millions of children salted and dried 2009 years ago with the birth of the Messiah.\\n\\nDecember 31 is the typical festivity with the fireworks, the count is realized before the new year. In we have the tradition of 12 grapes of the time, this tradition it is necessary to eat 12 grapes before 12 a.m. and for every grape that commas you can a desire, that is to say, that have 12 desires in whole.\\n\\nMy favorite taboo 31 with the growing up that if wearing yellow underwear have prosperity in the year, as is if after the 12 salts with a suitcase in the street and greet neighbors and give them the new year have many trips that year, and also the belief of thinking that if you have dollars and the passport in the year you will have prosperity in the year.\\n',\n",
       " 'language': 'Spanish',\n",
       " 'author': 'Riona Rose'}"
      ]
     },
     "execution_count": 5,
     "metadata": {},
     "output_type": "execute_result"
    }
   ],
   "source": [
    "next(results)"
   ]
  },
  {
   "cell_type": "code",
   "execution_count": 6,
   "metadata": {},
   "outputs": [],
   "source": [
    "# function tests\n",
    "file_name_1 = 'lang-8/167307.html'\n",
    "file_name_2 = 'lang-8/259663.html'\n",
    "\n",
    "test_text = \"\"\"\n",
    "I go to the library and I read the many book.\n",
    "\n",
    "Originally I rarely read the book, but I will read the book \n",
    "\n",
    "in this vacation.\n",
    "\n",
    "This vacation is my last vacation, \n",
    "\n",
    "so I don't want to regret to this vacation's lazy behaviors\n",
    "\n",
    "And I go to nursery school for volunteer in 6p.m.\n",
    "\n",
    "They are very very very cute.  <--Is this correct??:)\n",
    "\n",
    "Anyway This site is good because I met good friend yesterday.\n",
    "\n",
    "She is very kind, so I am impressive. \n",
    "\n",
    "Thanks. Have a good day.\n",
    "\n",
    "\n",
    "\"\"\"\n",
    "\n",
    "test_text_2 = \"\"\"\n",
    "If I had a time machine, I would travel to the past and try to see how the culture began, how the humans were created. Also I would like to visit the ancient civilizations like the Aztecs, Mayas and Chinese. \n",
    "\n",
    "Bye\n",
    "\"\"\""
   ]
  },
  {
   "cell_type": "code",
   "execution_count": 7,
   "metadata": {},
   "outputs": [
    {
     "name": "stdout",
     "output_type": "stream",
     "text": [
      "success!\n"
     ]
    }
   ],
   "source": [
    "f = my_zip.open(file_name_1)\n",
    "text_file = f.read()\n",
    "soup = BeautifulSoup(text_file)\n",
    "f.close()\n",
    "assert get_L1(soup) == 'Korean'\n",
    "\n",
    "assert get_text(soup) == test_text\n",
    "\n",
    "assert get_author_name(soup) == 'oldergoku'\n",
    "\n",
    "assert get_filename_in_txt(soup) == \"\"\"Today's planning\"\"\"\n",
    "\n",
    "print('success!')"
   ]
  },
  {
   "cell_type": "code",
   "execution_count": 8,
   "metadata": {},
   "outputs": [
    {
     "name": "stdout",
     "output_type": "stream",
     "text": [
      "success!\n"
     ]
    }
   ],
   "source": [
    "f = my_zip.open(file_name_2)\n",
    "text_file = f.read()\n",
    "soup = BeautifulSoup(text_file)\n",
    "f.close()\n",
    "assert get_L1(soup) == 'Spanish'\n",
    "\n",
    "assert get_text(soup) == test_text_2\n",
    "\n",
    "assert get_author_name(soup) == 'armacora'\n",
    "\n",
    "assert get_filename_in_txt(soup) == 'A ride in the time machine'\n",
    "\n",
    "print('success!')\n"
   ]
  },
  {
   "cell_type": "code",
   "execution_count": 9,
   "metadata": {},
   "outputs": [],
   "source": [
    "file_extraction_1 = {'filetitle': '105992.html',\n",
    " 'filename': 'Let me introduce myself',\n",
    " 'text': \"\\nHi!  My name is Alex (Sasha in Russian) and I'm from Belarus.\\nI emigrated to the United states almost five years ago and I live in Brooklyn, NY.\\nUnfortunately I have no one to speak with and have no abilities to practice my English. This is very sad - to live in English speaking country and\\xa0have no way to speak and learn language that is all around you. :(\\nWhen I first came to the United States I didn't know a single word in English.  I remember standing in the McDonalds the first day I came trying to order a French-fries and diet coke - I opened the mouth and... nothing came from it. I was standing and mumbling something. that was horrible.\\nSo, I watched TV and read books - this is the way I learned English.\\nFrom now on I will write here some thoughts about everything what bothers me. About emigration and cultural differences, about feelings, about America and my view on it.\\n\\nCan you please help me to correct my mistakes? Not only grammatical flaws but also the way I speak. Cause the language is not only the words and grammar rules, it is also THE WAY you speak, the way you express your thoughts.  Many people speaking foreign language often speak\\xa0it in a very strange way - the way that natives never speak. Because different languages have different structures and different 'language tools' to express same things.  I hope you understand what I'm talking about.\\n\\nThank you.\\n\",\n",
    " 'language': 'Russian',\n",
    " 'author': 'Sampler'}\n",
    "\n",
    "file_extraction_2 = {'filetitle': '248228.html',\n",
    " 'filename': 'Hello',\n",
    " 'text': \"\\nHello everyone, mi name is Fidel i'm new here, i hope you help me with the enclish i'll help you with the spanish. Thanks\\n\",\n",
    " 'language': 'Spanish',\n",
    " 'author': 'Fidelzch'}"
   ]
  },
  {
   "cell_type": "code",
   "execution_count": 10,
   "metadata": {},
   "outputs": [
    {
     "name": "stdout",
     "output_type": "stream",
     "text": [
      "success!\n"
     ]
    }
   ],
   "source": [
    "assert next(get_generator(['lang-8/105992.html'])) == file_extraction_1\n",
    "assert next(get_generator(['lang-8/248228.html'])) == file_extraction_2\n",
    "print('success!')"
   ]
  },
  {
   "cell_type": "markdown",
   "metadata": {},
   "source": [
    "## Part 2: Feature Extraction"
   ]
  },
  {
   "cell_type": "markdown",
   "metadata": {},
   "source": [
    "#### 1. imports"
   ]
  },
  {
   "cell_type": "code",
   "execution_count": 11,
   "metadata": {},
   "outputs": [],
   "source": [
    "import nltk\n",
    "import sys\n",
    "from collections import defaultdict\n",
    "from nltk import sent_tokenize\n",
    "from nltk import word_tokenize\n",
    "# !{sys.executable} -m install spacy\n",
    "# !{sys.executable} -m spacy download en_core_web_sm\n",
    "import re\n",
    "import spacy\n",
    "nlp = spacy.load('en_core_web_sm')\n",
    "import pandas as pd"
   ]
  },
  {
   "cell_type": "markdown",
   "metadata": {},
   "source": [
    "#### 2. data splitting"
   ]
  },
  {
   "cell_type": "code",
   "execution_count": 12,
   "metadata": {},
   "outputs": [],
   "source": [
    "# create list of file dict for data spliting\n",
    "\n",
    "file_names = [\"data/data-split/train.txt\", \"data/data-split/test.txt\", \"data/data-split/dev.txt\"]\n",
    "file_sets = defaultdict(set)\n",
    "def get_file_set(file_name):\n",
    "    '''Create list of file dict for data spliting'''\n",
    "    with open(file_name) as f:\n",
    "        files = f.readlines()\n",
    "    file_set = set()\n",
    "    for file in files:\n",
    "        file_set.add(file.strip(\"\\n\"))\n",
    "    file_sets[file_name] = file_set\n",
    "    return file_sets\n",
    "\n",
    "for file_name in file_names:\n",
    "    filename_dict = get_file_set(file_name)"
   ]
  },
  {
   "cell_type": "code",
   "execution_count": 13,
   "metadata": {},
   "outputs": [
    {
     "name": "stdout",
     "output_type": "stream",
     "text": [
      "success!\n"
     ]
    }
   ],
   "source": [
    "# Data splitting\n",
    "\n",
    "train_list = []\n",
    "test_list = []\n",
    "dev_list = []\n",
    "for result in results:\n",
    "    if result['language'] != 'Russian':\n",
    "        if result['filetitle'] in filename_dict['data/data-split/train.txt']:\n",
    "            train_list.append(result)\n",
    "        elif result['filetitle'] in filename_dict['data/data-split/test.txt']:\n",
    "            test_list.append(result)\n",
    "        elif result['filetitle'] in filename_dict['data/data-split/dev.txt']:\n",
    "            dev_list.append(result)\n",
    "\n",
    "assert len(train_list) == 742\n",
    "assert len(test_list) == 252\n",
    "assert len(dev_list) == 246\n",
    "print(\"success!\")"
   ]
  },
  {
   "cell_type": "code",
   "execution_count": 14,
   "metadata": {},
   "outputs": [],
   "source": [
    "# Transform the target \"language\" into European or Asian\n",
    "def get_target(list_of_dict):\n",
    "    '''transform all the \"language\" into European or Asian'''\n",
    "    for dictionary in list_of_dict:\n",
    "        language = dictionary['language']\n",
    "        if language in ['Spanish', 'French']:\n",
    "            dictionary['language'] = language.replace(language, 'European')\n",
    "        elif language in ['Japanese', 'Korean', 'Mandarin']:\n",
    "            dictionary['language'] = language.replace(language, 'Asian')\n",
    "    return list_of_dict\n",
    "\n",
    "train_list = get_target(train_list)\n",
    "test_list = get_target(test_list)\n",
    "dev_list = get_target(dev_list)"
   ]
  },
  {
   "cell_type": "markdown",
   "metadata": {},
   "source": [
    "#### 3. Set-up function"
   ]
  },
  {
   "cell_type": "code",
   "execution_count": 15,
   "metadata": {},
   "outputs": [],
   "source": [
    "# Set up: function for getting word list from single string\n",
    "def word_segmentation(text):\n",
    "    '''word segmentation and get rid of punctuation and space\n",
    "    Parameters\n",
    "    ----------\n",
    "    test: str\n",
    "        the text that you want to calculate TTR\n",
    "\n",
    "    Returns\n",
    "    -------\n",
    "    list\n",
    "        list of segmented word (dtype: spacy.tokens) without punctuation and space\n",
    "    '''\n",
    "    doc = nlp(text)\n",
    "    word_list = []\n",
    "    for sent in doc.sents:\n",
    "        for word in sent:\n",
    "            if word.pos_ not in ['PUNCT', 'SPACE']:\n",
    "                word_list.append(word)\n",
    "    return word_list"
   ]
  },
  {
   "cell_type": "markdown",
   "metadata": {},
   "source": [
    "#### 4. Feature extraction functions\n",
    "1. `has_asian_text`\n",
    "2. `has_european_text`\n",
    "3. `get_asian_to_european_count_ratio`\n",
    "4. `get_type_token_ratio`\n",
    "5. `get_lemmatized_percentage`\n",
    "6. `get_lexical_density`\n",
    "7. `average_verb_length`\n",
    "8. `average_noun_length`\n",
    "9. `get_readability_score`\n",
    "10. `get_percentage_punctuations_with_no_spaces_after`"
   ]
  },
  {
   "cell_type": "code",
   "execution_count": 16,
   "metadata": {},
   "outputs": [],
   "source": [
    "# get Asian and European name sets\n",
    "\n",
    "# Step 1: split train list into Asian and European\n",
    "Asian_train = []\n",
    "European_train = []\n",
    "for train in train_list:\n",
    "    if train['language'] == 'Asian':\n",
    "        Asian_train.append(train)\n",
    "    elif train['language'] == 'European':\n",
    "        European_train.append(train)\n",
    "\n",
    "assert len(Asian_train) + len(European_train) == len(train_list)\n",
    "\n",
    "# Step 2: get Asian and European word sets\n",
    "def get_word_set(list_of_dict):\n",
    "    '''Get word set from list of dictionary'''\n",
    "    words = []\n",
    "    for data in list_of_dict:\n",
    "        word_list = word_segmentation(data['text'])\n",
    "        for word in word_list:\n",
    "            words.append(word)\n",
    "    lemmatized_asian = [word.lemma_ for word in words]\n",
    "    return set(word.lower() for word in lemmatized_asian)\n",
    "\n",
    "asian_set = get_word_set(Asian_train)\n",
    "european_set = get_word_set(European_train)\n",
    "\n",
    "# Step 3: get Asian and European unique word sets\n",
    "#common_set = asian_set & european_set\n",
    "asian_name = asian_set #- common_set\n",
    "europe_name = european_set #- common_set\n",
    "\n",
    "# Append these to the names of places&people for asia and Europe\n",
    "with open(\"data/names/asian.txt\", \"a\", encoding=\"utf-8\") as fout:\n",
    "    for word in asian_name:\n",
    "        fout.write(word+'\\n')\n",
    "\n",
    "with open(\"data/names/european.txt\", \"a\", encoding=\"utf-8\") as fout:\n",
    "    for word in europe_name:\n",
    "        fout.write(word+'\\n')"
   ]
  },
  {
   "cell_type": "code",
   "execution_count": 17,
   "metadata": {},
   "outputs": [],
   "source": [
    "#Read the data, load the sets, and check the ratio of counts\n",
    "file_names = [\"asian.txt\", \"european.txt\"]\n",
    "lex_sets = defaultdict(set)\n",
    "def load_lexicons_set(file_name):\n",
    "    '''Load set of words for each target'''\n",
    "    with open(\"data/names/\" + file_name) as f:\n",
    "        files = f.readlines()\n",
    "    file_set = set()\n",
    "    for file in files:\n",
    "        file_set.add(file.strip(\"\\n\"))\n",
    "    lex_sets[file_name] = file_set\n",
    "    return lex_sets\n",
    "\n",
    "\n",
    "for file_name in file_names:\n",
    "    filename_dict = load_lexicons_set(file_name)"
   ]
  },
  {
   "cell_type": "code",
   "execution_count": 18,
   "metadata": {},
   "outputs": [],
   "source": [
    "def has_asian_text(text):\n",
    "    '''calculate if Asian names appear in the text exclusively\n",
    "    Parameters\n",
    "    ----------\n",
    "    test: str\n",
    "        the text that you want to calculate\n",
    "\n",
    "    Returns\n",
    "    -------\n",
    "    bool\n",
    "        number of Asian names in the text\n",
    "\n",
    "    Examples\n",
    "    --------\n",
    "    >>> has_asian_text(train_list[2]['text'])\n",
    "    True\n",
    "    >>> has_asian_text(train_list[60]['text'])\n",
    "    False\n",
    "    '''\n",
    "    word_list = word_segmentation(text)\n",
    "    lemmatized_list = [word.lemma_ for word in word_list]\n",
    "    lemma_set = set(word.lower() for word in lemmatized_list)\n",
    "    return len(lemma_set & (lex_sets['asian.txt']- (lex_sets['asian.txt'] & lex_sets['european.txt']))) > 0"
   ]
  },
  {
   "cell_type": "code",
   "execution_count": 19,
   "metadata": {},
   "outputs": [],
   "source": [
    "assert has_asian_text(train_list[2]['text']) == True  # Asian example must have > 0 Asian name\n",
    "assert has_asian_text(train_list[60]['text']) == False  # European example cannot have European name"
   ]
  },
  {
   "cell_type": "code",
   "execution_count": 20,
   "metadata": {},
   "outputs": [],
   "source": [
    "def has_european_text(text):\n",
    "    '''calculate if European names appear in the text\n",
    "    Parameters\n",
    "    ----------\n",
    "    test: str\n",
    "        the text that you want to calculate\n",
    "\n",
    "    Returns\n",
    "    -------\n",
    "    int\n",
    "        number of European names in the text\n",
    "\n",
    "    Examples\n",
    "    --------\n",
    "    >>> has_european_text(train_list[2]['text'])\n",
    "    True\n",
    "    >>> has_european_text(train_list[60]['text'])\n",
    "    18\n",
    "    '''\n",
    "    word_list = word_segmentation(text)\n",
    "    lemmatized_list = [word.lemma_ for word in word_list]\n",
    "    lemma_set = set(word.lower() for word in lemmatized_list)\n",
    "    return len(lemma_set & (lex_sets['european.txt']- (lex_sets['asian.txt'] & lex_sets['european.txt']))) >0"
   ]
  },
  {
   "cell_type": "code",
   "execution_count": 21,
   "metadata": {},
   "outputs": [],
   "source": [
    "assert has_european_text(train_list[2]['text']) == False  # Asian example must have 0 European name count\n",
    "assert has_european_text(train_list[60]['text']) == True  # European example must have > 1 European name count"
   ]
  },
  {
   "cell_type": "code",
   "execution_count": 22,
   "metadata": {},
   "outputs": [],
   "source": [
    "def get_asian_to_european_count_ratio(text):\n",
    "    '''calculate how many Asian names appear in the text compared to European\n",
    "    Parameters\n",
    "    ----------\n",
    "    test: str\n",
    "        the text that you want to calculate\n",
    "\n",
    "    Returns\n",
    "    -------\n",
    "    int\n",
    "        ratio of Asian names to European names in the text\n",
    "\n",
    "    Examples\n",
    "    --------\n",
    "    >>> get_asian_to_european_count_ratio(train_list[2]['text'])\n",
    "    7\n",
    "    >>> get_asian_to_european_count_ratio(train_list[60]['text'])\n",
    "    0\n",
    "    '''\n",
    "    word_list = word_segmentation(text)\n",
    "    lemmatized_list = [word.lemma_ for word in word_list]\n",
    "    lemma_set = set(word.lower() for word in lemmatized_list)\n",
    "    euro_len = len(lemma_set & lex_sets['european.txt'])\n",
    "    asia_len = len(lemma_set & lex_sets['asian.txt'])\n",
    "\n",
    "    if euro_len == 0:\n",
    "        return 0\n",
    "    return asia_len/euro_len"
   ]
  },
  {
   "cell_type": "code",
   "execution_count": 23,
   "metadata": {},
   "outputs": [],
   "source": [
    "assert get_asian_to_european_count_ratio(train_list[2]['text']) > 0  # Asian example must have > 1 Asian name count\n",
    "assert get_asian_to_european_count_ratio(train_list[60]['text']) == 0.8363636363636363  # European example must have 0 Asian name count"
   ]
  },
  {
   "cell_type": "code",
   "execution_count": 24,
   "metadata": {},
   "outputs": [],
   "source": [
    "def get_type_token_ratio(text):\n",
    "    '''calculate type-token ratio (TTR) from single text\n",
    "    Parameters\n",
    "    ----------\n",
    "    test: str\n",
    "        the text that you want to calculate TTR\n",
    "\n",
    "    Returns\n",
    "    -------\n",
    "    float\n",
    "        type-token ratio\n",
    "\n",
    "    Examples\n",
    "    --------\n",
    "    >>> get_type_token_ratio(train_list[2]['text'])\n",
    "    0.7323943661971831\n",
    "    >>> get_type_token_ratio(train_list[5]['text'])\n",
    "    0.7843137254901961\n",
    "    '''\n",
    "    word_list = word_segmentation(text)\n",
    "    type_set = set(str(word).lower() for word in word_list)\n",
    "    return len(type_set) / len(word_list)"
   ]
  },
  {
   "cell_type": "code",
   "execution_count": 25,
   "metadata": {},
   "outputs": [],
   "source": [
    "assert get_type_token_ratio(train_list[2]['text']) == 0.7323943661971831\n",
    "assert get_type_token_ratio(train_list[5]['text']) == 0.7843137254901961"
   ]
  },
  {
   "cell_type": "code",
   "execution_count": 26,
   "metadata": {},
   "outputs": [],
   "source": [
    "# percent of word changed after lemmatization\n",
    "def get_lemmatized_percentage(text):\n",
    "    '''calculate the percentage of tokens that are lemmatized\n",
    "    Parameters\n",
    "    ----------\n",
    "    test: str\n",
    "        the text that you want to calculate\n",
    "\n",
    "    Returns\n",
    "    -------\n",
    "    float\n",
    "        percentage of lemmatized tokens\n",
    "\n",
    "    Examples\n",
    "    --------\n",
    "    >>> get_lemmatized_percentage(train_list[2]['text'])\n",
    "    0.057692307692307696\n",
    "    >>> get_lemmatized_percentage(train_list[10]['text'])\n",
    "    0.031746031746031744\n",
    "    '''\n",
    "    word_list = word_segmentation(text)\n",
    "    token_set = set(str(word).lower() for word in word_list)\n",
    "    lemmatized_list = [word.lemma_ for word in word_list]\n",
    "    lemma_set = set(word.lower() for word in lemmatized_list)\n",
    "    return (len(token_set) - len(lemma_set)) / len(token_set)"
   ]
  },
  {
   "cell_type": "code",
   "execution_count": 27,
   "metadata": {},
   "outputs": [],
   "source": [
    "assert get_lemmatized_percentage(train_list[2]['text']) == 0.057692307692307696\n",
    "assert get_lemmatized_percentage(train_list[10]['text']) == 0.031746031746031744"
   ]
  },
  {
   "cell_type": "code",
   "execution_count": 28,
   "metadata": {},
   "outputs": [],
   "source": [
    "# lexical density\n",
    "def get_lexical_density(text):\n",
    "    '''calculate lexical density\n",
    "    Parameters\n",
    "    ----------\n",
    "    test: str\n",
    "        the text that you want to calculate\n",
    "\n",
    "    Returns\n",
    "    -------\n",
    "    float\n",
    "        lexical density\n",
    "\n",
    "    Examples\n",
    "    --------\n",
    "    >>> get_lexical_density(train_list[2]['text'])\n",
    "    0.6056338028169014\n",
    "    >>> get_lexical_density(train_list[10]['text'])\n",
    "    0.5217391304347826\n",
    "    '''\n",
    "    open_class_prefix = {\"N\", \"V\", \"J\", \"R\"}\n",
    "    word_list = word_segmentation(text)\n",
    "    total_open_word = 0\n",
    "    word_list = []\n",
    "    doc = nlp(text)\n",
    "    for sent in doc.sents:\n",
    "        for word in sent:\n",
    "            if word.tag_[0] in open_class_prefix:\n",
    "                total_open_word += 1\n",
    "            if word.pos_ not in ['PUNCT', 'SPACE']:\n",
    "                word_list.append(str(word))\n",
    "    return total_open_word / len(word_list)"
   ]
  },
  {
   "cell_type": "code",
   "execution_count": 29,
   "metadata": {},
   "outputs": [],
   "source": [
    "assert get_lexical_density(train_list[2]['text']) == 0.6056338028169014\n",
    "assert get_lexical_density(train_list[10]['text']) == 0.5217391304347826"
   ]
  },
  {
   "cell_type": "code",
   "execution_count": 30,
   "metadata": {},
   "outputs": [],
   "source": [
    "def average_verb_length(text):\n",
    "    '''given a string of text, \n",
    "    tag POS and \n",
    "    then return avg verb len\n",
    "    '''\n",
    "    doc = nlp(text)\n",
    "    total_len = 0\n",
    "    num_verbs = 0.01\n",
    "    for sent in doc.sents:\n",
    "        for token in sent:\n",
    "            if token.tag_[0] == 'V':\n",
    "                total_len += len(token)\n",
    "                num_verbs += 1\n",
    "                \n",
    "    return round(total_len/num_verbs , 2) "
   ]
  },
  {
   "cell_type": "code",
   "execution_count": 31,
   "metadata": {},
   "outputs": [
    {
     "name": "stdout",
     "output_type": "stream",
     "text": [
      "Success!\n"
     ]
    }
   ],
   "source": [
    "assert average_verb_length(train_list[2]['text']) == 4.37\n",
    "assert average_verb_length(train_list[11]['text']) == 3.96\n",
    "assert average_verb_length('') == 0.0\n",
    "print('Success!')"
   ]
  },
  {
   "cell_type": "code",
   "execution_count": 32,
   "metadata": {},
   "outputs": [],
   "source": [
    "def average_noun_length(text):\n",
    "    '''given a string of text, \n",
    "    tag POS and \n",
    "    then return avg noun len\n",
    "    '''\n",
    "    doc = nlp(text)\n",
    "    total_len = 0\n",
    "    num_nouns = 0.01\n",
    "    for sent in doc.sents:\n",
    "        for token in sent:\n",
    "            if token.tag_[0] == 'N':\n",
    "                total_len += len(token)\n",
    "                num_nouns += 1\n",
    "                \n",
    "    return round(total_len/num_nouns , 2) "
   ]
  },
  {
   "cell_type": "code",
   "execution_count": 33,
   "metadata": {},
   "outputs": [
    {
     "name": "stdout",
     "output_type": "stream",
     "text": [
      "Success!\n"
     ]
    }
   ],
   "source": [
    "assert average_noun_length(train_list[2]['text']) == 5.66\n",
    "assert average_noun_length(train_list[11]['text']) == 9.9\n",
    "assert average_noun_length('') == 0.0\n",
    "print('Success!')"
   ]
  },
  {
   "cell_type": "code",
   "execution_count": 34,
   "metadata": {},
   "outputs": [],
   "source": [
    "#intermediate functions\n",
    "from nltk.corpus import cmudict\n",
    "vowels = {\"a\",\"e\",\"i\",\"o\",\"u\",\"y\"}\n",
    "p_dict = cmudict.dict() # keep this outside as a global variable so you aren't reloading each time\n",
    "\n",
    "def get_syllables(word):\n",
    "    \"\"\"Returns the count of syllables in a word.\n",
    "    \n",
    "    Parameters\n",
    "    ----------\n",
    "    word : str\n",
    "        word to check the syllables for.\n",
    "        \n",
    "    Returns\n",
    "    -------\n",
    "    output : int\n",
    "        The count of syllables in a word\n",
    "    \"\"\"\n",
    "    '''use CMU dict (p_dict) to count the number of syllables in word, default to number of vowels'''\n",
    "    syllable_count = 0\n",
    "    if word not in p_dict.keys():\n",
    "        word = word.lower()\n",
    "        for i in range(len(word)):\n",
    "            if word[i] in vowels:\n",
    "                syllable_count += 1\n",
    "    else:            \n",
    "        for ARPAbet_phone in p_dict[word][0]:\n",
    "            if ARPAbet_phone[-1] in ['0', '1', '2']:\n",
    "                syllable_count += 1  \n",
    "    return syllable_count\n",
    "\n",
    "def get_reading_ease(sentence):\n",
    "    \"\"\"Returns the readability result of formula based on the words in a sentence\n",
    "    \n",
    "    Parameters\n",
    "    ----------\n",
    "    sentence : str\n",
    "        sentence to check the readability for.\n",
    "        \n",
    "    Returns\n",
    "    -------\n",
    "    output : float\n",
    "        The readability score of a sentence\n",
    "    \"\"\"\n",
    "    '''calculate the Flesh reading ease for a single sentence consisting of a list of words (strings)'''\n",
    "    # your code here\n",
    "    count_words = 0\n",
    "    count_syllables = 0\n",
    "    reading_ease = None\n",
    "    for word in sentence:\n",
    "        if word.isalpha():\n",
    "            count_words +=1\n",
    "            count_syllables += get_syllables(word)\n",
    "    if count_words > 0 :\n",
    "        reading_ease = (206.835 - (1.015 * (count_words/1)) - (84.6 * (count_syllables/count_words)))\n",
    "    \n",
    "    return reading_ease"
   ]
  },
  {
   "cell_type": "code",
   "execution_count": 35,
   "metadata": {},
   "outputs": [],
   "source": [
    "def get_readability_score(text):\n",
    "    '''given a string of text, \n",
    "    split it into sentences, \n",
    "    calculate the readability\n",
    "    '''\n",
    "    score = 0\n",
    "    num_sentences = 0\n",
    "    for sent in sent_tokenize(text):\n",
    "        if get_reading_ease(sent):\n",
    "            score += get_reading_ease(sent)\n",
    "            num_sentences += 1\n",
    "            \n",
    "    if num_sentences == 0:\n",
    "        return score\n",
    "                \n",
    "    return round(score/num_sentences , 2) "
   ]
  },
  {
   "cell_type": "code",
   "execution_count": 36,
   "metadata": {},
   "outputs": [
    {
     "name": "stdout",
     "output_type": "stream",
     "text": [
      "Success!\n"
     ]
    }
   ],
   "source": [
    "assert get_readability_score(train_list[2]['text']) == 83.38\n",
    "assert get_readability_score(train_list[11]['text']) == 95.21\n",
    "assert get_readability_score('') == 0.0\n",
    "print('Success!')"
   ]
  },
  {
   "cell_type": "code",
   "execution_count": 37,
   "metadata": {},
   "outputs": [],
   "source": [
    "def get_percentage_punctuations_with_no_spaces_after(text):\n",
    "    '''given a string of text, \n",
    "    check the percentage of punctuations which \n",
    "    do no have a space or a newline after\n",
    "    '''\n",
    "    punctuations = {'.', ',', ';'}\n",
    "    spaces = {' ','\\n'}\n",
    "    total_punctuations = 0\n",
    "    count_with_no_spaces = 0\n",
    "    doc = nlp(text)\n",
    "    counter = 0\n",
    "    len_doc = len(text)\n",
    "    for letter in text:\n",
    "        if letter in punctuations:\n",
    "            total_punctuations += 1\n",
    "            if (counter+1) < len_doc and text[counter+1] not in spaces:\n",
    "                count_with_no_spaces += 1\n",
    "\n",
    "        counter += 1\n",
    "      \n",
    "    if total_punctuations == 0:\n",
    "        return 100.0\n",
    "                \n",
    "    return (round(count_with_no_spaces*100/total_punctuations, 2))"
   ]
  },
  {
   "cell_type": "code",
   "execution_count": 38,
   "metadata": {},
   "outputs": [
    {
     "name": "stdout",
     "output_type": "stream",
     "text": [
      "Success!\n"
     ]
    }
   ],
   "source": [
    "text = '''Chelsea English School is offering a Summer School Program in Iwaki, Fukushima, a holiday learning experience combining enjoyment of the area's natural beauty and practical lifestyle immersion in the agricultural traditions of this part of Japan.\n",
    "We will be hosted by \"Namakiba\" farm, an agricultural concern run by an Iwaki City cooperative, and activities include handson experience of organic farming,barbecues, local nature sightseeing including swimming in the river and the sea,the local fish market, guesthouses with onsens (hot spas) . The program promises new and fresh experiences in both nature and culture, and time will also be made available for gift shopping. Non-Japanese speakers are also warmly invited, as simultaneous translation into English will be available throughout the e trip. '''\n",
    "\n",
    "assert get_percentage_punctuations_with_no_spaces_after(text) == 14.29\n",
    "assert get_percentage_punctuations_with_no_spaces_after(train_list[2]['text']) == 28.57\n",
    "assert get_percentage_punctuations_with_no_spaces_after(train_list[11]['text']) == 100.0\n",
    "print('Success!')"
   ]
  },
  {
   "cell_type": "markdown",
   "metadata": {},
   "source": [
    "#### 5. Building feature dictionary"
   ]
  },
  {
   "cell_type": "code",
   "execution_count": 39,
   "metadata": {},
   "outputs": [],
   "source": [
    "def feature_extraction(list_of_dict):\n",
    "    for data in list_of_dict:\n",
    "        data['has_asian_name'] = has_asian_text(data['text'])\n",
    "        data['has_european_name'] = has_european_text(data['text'])\n",
    "        data['asian_european_ratio'] = get_asian_to_european_count_ratio(data['text'])\n",
    "        data['ttr'] = get_type_token_ratio(data['text'])\n",
    "        data['perc_lemmatized'] = get_lemmatized_percentage(data['text'])\n",
    "        data['lexical_density'] = get_lexical_density(data['text'])\n",
    "        data['avrg_v_length'] = average_verb_length(data['text'])\n",
    "        data['avrg_n_length'] = average_noun_length(data['text'])\n",
    "        data['readability'] = get_readability_score(data['text'])\n",
    "        data['perc_punc_no_space'] = get_percentage_punctuations_with_no_spaces_after(data['text'])\n",
    "    return list_of_dict"
   ]
  },
  {
   "cell_type": "code",
   "execution_count": 40,
   "metadata": {},
   "outputs": [],
   "source": [
    "train_list = feature_extraction(train_list)\n",
    "test_list = feature_extraction(test_list)\n",
    "dev_list = feature_extraction(dev_list)"
   ]
  },
  {
   "cell_type": "code",
   "execution_count": 41,
   "metadata": {},
   "outputs": [
    {
     "data": {
      "text/plain": [
       "{'filetitle': '100282.html',\n",
       " 'filename': 'Hello, everyone!',\n",
       " 'text': \"\\n\\nMy name is Rikopin. I'm a university student in Japan.\\nI begin to write my journal from today.\\nI'd like you to check it when you are free :-)\\n\\nOne of my favorit singers is Shouta Shimizu.\\nHis new CD was released yesterday!\\nI haven't bought it yet because I have little money(;_;)\\nAnyway, his new song is really nice! \\nI recommend you to listen to this song!\\n\\n\\n\\n\\n\\n\\n\\n\",\n",
       " 'language': 'Asian',\n",
       " 'author': 'りこぴん',\n",
       " 'has_asian_name': True,\n",
       " 'has_european_name': False,\n",
       " 'asian_european_ratio': 1.1666666666666667,\n",
       " 'ttr': 0.7323943661971831,\n",
       " 'perc_lemmatized': 0.057692307692307696,\n",
       " 'lexical_density': 0.6056338028169014,\n",
       " 'avrg_v_length': 4.37,\n",
       " 'avrg_n_length': 5.66,\n",
       " 'readability': 83.38,\n",
       " 'perc_punc_no_space': 28.57}"
      ]
     },
     "execution_count": 41,
     "metadata": {},
     "output_type": "execute_result"
    }
   ],
   "source": [
    "train_list[2]"
   ]
  },
  {
   "cell_type": "code",
   "execution_count": 42,
   "metadata": {},
   "outputs": [
    {
     "data": {
      "text/plain": [
       "742"
      ]
     },
     "execution_count": 42,
     "metadata": {},
     "output_type": "execute_result"
    }
   ],
   "source": [
    "len(train_list)"
   ]
  },
  {
   "cell_type": "code",
   "execution_count": 43,
   "metadata": {},
   "outputs": [
    {
     "data": {
      "text/plain": [
       "{'filetitle': '100216.html',\n",
       " 'filename': 'First diary in English',\n",
       " 'text': '\\nHi there,\\n\\nI am Japanese living in Tokyo.\\nSometimes I read English documents for my job, but there were few chances to write in English. I want to learn here.\\n\\nI like listening to / making (especially electronic) music.\\nRecently I made a techno tune for the free online compilation album planned by a friend of mine. It will be soon released!\\n\\nBy the way, it is really cold today. It is about time to get my \"kotatsu\" (Japanese table with an electric heater) ready.\\n',\n",
       " 'language': 'Asian',\n",
       " 'author': 'Go',\n",
       " 'has_asian_name': True,\n",
       " 'has_european_name': True,\n",
       " 'asian_european_ratio': 1.0,\n",
       " 'ttr': 0.7764705882352941,\n",
       " 'perc_lemmatized': 0.06060606060606061,\n",
       " 'lexical_density': 0.611764705882353,\n",
       " 'avrg_v_length': 4.53,\n",
       " 'avrg_n_length': 5.68,\n",
       " 'readability': 74.09,\n",
       " 'perc_punc_no_space': 0.0}"
      ]
     },
     "execution_count": 43,
     "metadata": {},
     "output_type": "execute_result"
    }
   ],
   "source": [
    "dev_list[2]"
   ]
  },
  {
   "cell_type": "code",
   "execution_count": 44,
   "metadata": {},
   "outputs": [
    {
     "data": {
      "text/plain": [
       "{'filetitle': '102725.html',\n",
       " 'filename': 'Recent My Game Life.',\n",
       " 'text': \"\\nI almost finished Assassins Creed 2 Xbox360.\\nI got all 66 view points but I didn't get Xbox360 Gamers Point.\\nI searched it on the internet.\\nI knew Assassins Creed 2 don't have it to collect all view points.\\n\\nDay before yesterday I played Modern Warware 2 Xbox360.\\nI didn't skillfully play it.\\nI don't like FPS but I like it because I enough to feel real.\\n\\nToday I will get Final Fantasy 13 PS3.\\nI want to play it as soon as possible.\\n\",\n",
       " 'language': 'Asian',\n",
       " 'author': 'motionbros',\n",
       " 'has_asian_name': False,\n",
       " 'has_european_name': False,\n",
       " 'asian_european_ratio': 1.0,\n",
       " 'ttr': 0.5909090909090909,\n",
       " 'perc_lemmatized': 0.07692307692307693,\n",
       " 'lexical_density': 0.6022727272727273,\n",
       " 'avrg_v_length': 4.21,\n",
       " 'avrg_n_length': 5.91,\n",
       " 'readability': 88.06,\n",
       " 'perc_punc_no_space': 0.0}"
      ]
     },
     "execution_count": 44,
     "metadata": {},
     "output_type": "execute_result"
    }
   ],
   "source": [
    "test_list[3]"
   ]
  },
  {
   "cell_type": "markdown",
   "metadata": {},
   "source": [
    "## Part 3: Classification\n",
    "- First, vectorize the lists of feature dictionaries appropriately, turning them into first into sparse matrices, and then numpy arrays.\n",
    "- Build a sklearn `DecisionTreeClassifier` with `max_depth=3` (for regularization), and get a preliminary accuracy_score on the _dev_ set using all features.\n",
    "- The next step is feature [ablation](https://en.wikipedia.org/wiki/Ablation_(artificial_intelligence%29), which involves removing features one at a time from the model, and seeing what the effect is.\n",
    "- The last step is to check the accuracy of the model on the _test_ set, after removing any features that are not useful based on _dev_ set results."
   ]
  },
  {
   "cell_type": "code",
   "execution_count": 45,
   "metadata": {},
   "outputs": [],
   "source": [
    "# pip install -U scikit-learn\n",
    "from sklearn import tree, metrics"
   ]
  },
  {
   "cell_type": "code",
   "execution_count": 46,
   "metadata": {},
   "outputs": [],
   "source": [
    "tree_clf = tree.DecisionTreeClassifier(max_depth = 3)"
   ]
  },
  {
   "cell_type": "code",
   "execution_count": 47,
   "metadata": {},
   "outputs": [],
   "source": [
    "X_train = pd.DataFrame(train_list).drop(columns = ['filetitle', 'filename', 'text', 'author', 'language'])\n",
    "y_train = pd.DataFrame(train_list)['language']\n",
    "\n",
    "X_dev = pd.DataFrame(dev_list).drop(columns = ['filetitle', 'filename', 'text', 'author', 'language'])\n",
    "y_dev = pd.DataFrame(dev_list)['language']\n",
    "\n",
    "X_test = pd.DataFrame(test_list).drop(columns = ['filetitle', 'filename', 'text', 'author', 'language'])\n",
    "y_test = pd.DataFrame(test_list)['language']"
   ]
  },
  {
   "cell_type": "code",
   "execution_count": 48,
   "metadata": {},
   "outputs": [],
   "source": [
    "def ablation(model, X_train, y_train, X_dev, y_dev, feature):\n",
    "    \"\"\"Removes a feature in the data and finds the accuracy of the model without that feature\n",
    "    \n",
    "    Parameters\n",
    "    ----------\n",
    "    model : \n",
    "        the classification model being used.\n",
    "    X_train : \n",
    "        the training data.\n",
    "    y_train : \n",
    "        the training target values.\n",
    "    X_dev :\n",
    "        the development data.\n",
    "    y_dev : \n",
    "        the development target values.\n",
    "    feature : str\n",
    "        the name of the feature to remove\n",
    "        \n",
    "    Returns\n",
    "    -------\n",
    "    float\n",
    "        The accuracy of the model with the missing feature.\n",
    "    \"\"\"\n",
    "    ab_train = X_train.drop(columns = feature)\n",
    "    ab_dev = X_dev.drop(columns = feature)\n",
    "    \n",
    "    model.fit(ab_train, y_train)\n",
    "    \n",
    "    y_pred = model.predict(ab_dev)\n",
    "    \n",
    "    return metrics.accuracy_score(y_dev, y_pred)"
   ]
  },
  {
   "cell_type": "code",
   "execution_count": 49,
   "metadata": {},
   "outputs": [],
   "source": [
    "def ablated_accuracy(model, X_train, y_train, X_dev, y_dev):\n",
    "    \"\"\"Finds the accuracy of the model with each feature missing\n",
    "    \n",
    "    Parameters\n",
    "    ----------\n",
    "    model : \n",
    "        the classification model being used.\n",
    "    X_train : \n",
    "        the training data.\n",
    "    y_train : \n",
    "        the training target values.\n",
    "    X_dev :\n",
    "        the development data.\n",
    "    y_dev : \n",
    "        the development target values.\n",
    "        \n",
    "    Returns\n",
    "    -------\n",
    "    Data Frame\n",
    "        The accuracy of the model with each feature removed.\n",
    "    \"\"\"\n",
    "    results = []\n",
    "    \n",
    "    model.fit(X_train, y_train)\n",
    "    \n",
    "    y_pred = model.predict(X_dev)\n",
    "    \n",
    "    original_score = metrics.accuracy_score(y_dev, y_pred)\n",
    "    results.append(['none', original_score, 0])\n",
    "    \n",
    "    for column in X_train.columns:\n",
    "        ab_score = ablation(model, X_train, y_train, X_dev, y_dev, column)\n",
    "        results.append([column, ab_score, original_score - ab_score])\n",
    "    \n",
    "    return pd.DataFrame(columns = ['Feature removed', 'Accuracy', 'Difference'], data = results)"
   ]
  },
  {
   "cell_type": "code",
   "execution_count": 50,
   "metadata": {},
   "outputs": [
    {
     "name": "stdout",
     "output_type": "stream",
     "text": [
      "         Feature removed  Accuracy  Difference\n",
      "0                   none  0.711382    0.000000\n",
      "1         has_asian_name  0.776423   -0.065041\n",
      "2      has_european_name  0.703252    0.008130\n",
      "3   asian_european_ratio  0.686992    0.024390\n",
      "4                    ttr  0.711382    0.000000\n",
      "5        perc_lemmatized  0.707317    0.004065\n",
      "6        lexical_density  0.703252    0.008130\n",
      "7          avrg_v_length  0.711382    0.000000\n",
      "8          avrg_n_length  0.699187    0.012195\n",
      "9            readability  0.711382    0.000000\n",
      "10    perc_punc_no_space  0.707317    0.004065\n"
     ]
    }
   ],
   "source": [
    "feat_acc = ablated_accuracy(tree_clf, X_train, y_train, X_dev, y_dev)\n",
    "print(feat_acc)"
   ]
  },
  {
   "cell_type": "code",
   "execution_count": 51,
   "metadata": {},
   "outputs": [
    {
     "data": {
      "text/plain": [
       "0.7764227642276422"
      ]
     },
     "execution_count": 51,
     "metadata": {},
     "output_type": "execute_result"
    }
   ],
   "source": [
    "#Removing features that cause the accuracy to go down.\n",
    "for feat, dif in zip(feat_acc['Feature removed'], feat_acc['Difference']):\n",
    "    if dif < 0:\n",
    "        X_train = X_train.drop(columns = feat)\n",
    "        X_dev = X_dev.drop(columns = feat)\n",
    "        X_test = X_test.drop(columns = feat)\n",
    "\n",
    "#Checking new accuracy on train set.        \n",
    "tree_clf.fit(X_train, y_train)\n",
    "    \n",
    "y_pred = tree_clf.predict(X_dev)\n",
    "    \n",
    "metrics.accuracy_score(y_dev, y_pred)"
   ]
  },
  {
   "cell_type": "code",
   "execution_count": 52,
   "metadata": {},
   "outputs": [
    {
     "data": {
      "text/plain": [
       "[Text(167.4, 190.26, 'X[1] <= 0.992\\ngini = 0.434\\nsamples = 742\\nvalue = [506, 236]'),\n",
       " Text(83.7, 135.9, 'X[0] <= 0.5\\ngini = 0.076\\nsamples = 228\\nvalue = [9, 219]'),\n",
       " Text(41.85, 81.53999999999999, 'gini = 0.0\\nsamples = 9\\nvalue = [9, 0]'),\n",
       " Text(125.55000000000001, 81.53999999999999, 'gini = 0.0\\nsamples = 219\\nvalue = [0, 219]'),\n",
       " Text(251.10000000000002, 135.9, 'X[1] <= 1.008\\ngini = 0.064\\nsamples = 514\\nvalue = [497, 17]'),\n",
       " Text(209.25, 81.53999999999999, 'X[4] <= 0.503\\ngini = 0.478\\nsamples = 43\\nvalue = [26, 17]'),\n",
       " Text(167.4, 27.180000000000007, 'gini = 0.355\\nsamples = 13\\nvalue = [3, 10]'),\n",
       " Text(251.10000000000002, 27.180000000000007, 'gini = 0.358\\nsamples = 30\\nvalue = [23, 7]'),\n",
       " Text(292.95, 81.53999999999999, 'gini = 0.0\\nsamples = 471\\nvalue = [471, 0]')]"
      ]
     },
     "execution_count": 52,
     "metadata": {},
     "output_type": "execute_result"
    },
    {
     "data": {
      "image/png": "[encoded data removed]",
      "text/plain": [
       "<Figure size 432x288 with 1 Axes>"
      ]
     },
     "metadata": {
      "needs_background": "light"
     },
     "output_type": "display_data"
    }
   ],
   "source": [
    "tree.plot_tree(tree_clf)"
   ]
  },
  {
   "cell_type": "code",
   "execution_count": 53,
   "metadata": {},
   "outputs": [],
   "source": [
    "assert X_train.shape[1] <= 10"
   ]
  },
  {
   "cell_type": "code",
   "execution_count": 54,
   "metadata": {},
   "outputs": [
    {
     "data": {
      "text/plain": [
       "0.75"
      ]
     },
     "execution_count": 54,
     "metadata": {},
     "output_type": "execute_result"
    }
   ],
   "source": [
    "tree_clf.fit(X_train, y_train)\n",
    "\n",
    "y_pred = tree_clf.predict(X_test)\n",
    "    \n",
    "metrics.accuracy_score(y_test, y_pred)"
   ]
  }
 ],
 "metadata": {
  "kernelspec": {
   "display_name": "Python 3 (ipykernel)",
   "language": "python",
   "name": "python3"
  },
  "language_info": {
   "codemirror_mode": {
    "name": "ipython",
    "version": 3
   },
   "file_extension": ".py",
   "mimetype": "text/x-python",
   "name": "python",
   "nbconvert_exporter": "python",
   "pygments_lexer": "ipython3",
   "version": "3.9.5"
  }
 },
 "nbformat": 4,
 "nbformat_minor": 4
}
